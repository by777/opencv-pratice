{
 "cells": [
  {
   "cell_type": "markdown",
   "metadata": {},
   "source": [
    "# 数据读取-图像\n",
    "\n",
    "+ cv2.IMREAD_COLOR：彩色图像\n",
    "+ cv2.IMREAD_GRAYSCALE：灰度图像"
   ]
  },
  {
   "cell_type": "code",
   "execution_count": 2,
   "metadata": {},
   "outputs": [],
   "source": [
    "import cv2 # opencv默认读取格式是BGR的而不是RGB\n",
    "import matplotlib.pyplot as plt\n",
    "import numpy as np\n",
    "# 魔法指令notebook中不必调用plt.show()函数了\n",
    "%matplotlib inline"
   ]
  },
  {
   "cell_type": "code",
   "execution_count": 5,
   "metadata": {},
   "outputs": [
    {
     "data": {
      "text/plain": [
       "array([[[142, 151, 160],\n",
       "        [146, 155, 164],\n",
       "        [151, 160, 170],\n",
       "        ...,\n",
       "        [156, 172, 185],\n",
       "        [155, 171, 184],\n",
       "        [154, 170, 183]],\n",
       "\n",
       "       [[108, 117, 126],\n",
       "        [112, 123, 131],\n",
       "        [118, 127, 137],\n",
       "        ...,\n",
       "        [155, 171, 184],\n",
       "        [154, 170, 183],\n",
       "        [153, 169, 182]],\n",
       "\n",
       "       [[108, 119, 127],\n",
       "        [110, 123, 131],\n",
       "        [118, 128, 138],\n",
       "        ...,\n",
       "        [156, 169, 183],\n",
       "        [155, 168, 182],\n",
       "        [154, 167, 181]],\n",
       "\n",
       "       ...,\n",
       "\n",
       "       [[162, 186, 198],\n",
       "        [157, 181, 193],\n",
       "        [142, 166, 178],\n",
       "        ...,\n",
       "        [181, 204, 206],\n",
       "        [170, 193, 195],\n",
       "        [149, 172, 174]],\n",
       "\n",
       "       [[140, 164, 176],\n",
       "        [147, 171, 183],\n",
       "        [139, 163, 175],\n",
       "        ...,\n",
       "        [169, 187, 188],\n",
       "        [125, 143, 144],\n",
       "        [106, 124, 125]],\n",
       "\n",
       "       [[154, 178, 190],\n",
       "        [154, 178, 190],\n",
       "        [121, 145, 157],\n",
       "        ...,\n",
       "        [183, 198, 200],\n",
       "        [128, 143, 145],\n",
       "        [127, 142, 144]]], dtype=uint8)"
      ]
     },
     "execution_count": 5,
     "metadata": {},
     "output_type": "execute_result"
    }
   ],
   "source": [
    "img = cv2.imread('cat.jpg')\n",
    "img"
   ]
  },
  {
   "cell_type": "code",
   "execution_count": 8,
   "metadata": {},
   "outputs": [],
   "source": [
    "# 图像的显示、也可以创建多个窗口\n",
    "cv2.imshow('image:cat',img)\n",
    "# 等待时间、毫秒级、0表示任意键终止、1000表示显示时间\n",
    "cv2.waitKey(0)\n",
    "cv2.destroyAllWindows()"
   ]
  },
  {
   "cell_type": "code",
   "execution_count": 9,
   "metadata": {},
   "outputs": [],
   "source": [
    "def cv_show(name,img):\n",
    "    cv2.imshow(name,img)\n",
    "    cv2.waitKey(0)\n",
    "    cv2.destroyAllWindows()"
   ]
  },
  {
   "cell_type": "code",
   "execution_count": 10,
   "metadata": {},
   "outputs": [
    {
     "data": {
      "text/plain": [
       "(414, 500, 3)"
      ]
     },
     "execution_count": 10,
     "metadata": {},
     "output_type": "execute_result"
    }
   ],
   "source": [
    "img.shape\n",
    "# (h,w,c)"
   ]
  },
  {
   "cell_type": "code",
   "execution_count": 11,
   "metadata": {},
   "outputs": [
    {
     "data": {
      "text/plain": [
       "array([[153, 157, 162, ..., 174, 173, 172],\n",
       "       [119, 124, 129, ..., 173, 172, 171],\n",
       "       [120, 124, 130, ..., 172, 171, 170],\n",
       "       ...,\n",
       "       [187, 182, 167, ..., 202, 191, 170],\n",
       "       [165, 172, 164, ..., 185, 141, 122],\n",
       "       [179, 179, 146, ..., 197, 142, 141]], dtype=uint8)"
      ]
     },
     "execution_count": 11,
     "metadata": {},
     "output_type": "execute_result"
    }
   ],
   "source": [
    "img = cv2.imread('cat.jpg',cv2.IMREAD_GRAYSCALE)\n",
    "img"
   ]
  },
  {
   "cell_type": "code",
   "execution_count": 12,
   "metadata": {},
   "outputs": [
    {
     "data": {
      "text/plain": [
       "(414, 500)"
      ]
     },
     "execution_count": 12,
     "metadata": {},
     "output_type": "execute_result"
    }
   ],
   "source": [
    "img.shape\n",
    "# (h,w)"
   ]
  },
  {
   "cell_type": "code",
   "execution_count": 13,
   "metadata": {},
   "outputs": [],
   "source": [
    "cv_show('image:gray_cat',img)"
   ]
  },
  {
   "cell_type": "code",
   "execution_count": 14,
   "metadata": {},
   "outputs": [
    {
     "data": {
      "text/plain": [
       "True"
      ]
     },
     "execution_count": 14,
     "metadata": {},
     "output_type": "execute_result"
    }
   ],
   "source": [
    "# 保存\n",
    "cv2.imwrite('mycat.png',img)"
   ]
  },
  {
   "cell_type": "code",
   "execution_count": 15,
   "metadata": {},
   "outputs": [
    {
     "data": {
      "text/plain": [
       "numpy.ndarray"
      ]
     },
     "execution_count": 15,
     "metadata": {},
     "output_type": "execute_result"
    }
   ],
   "source": [
    "type(img)"
   ]
  },
  {
   "cell_type": "markdown",
   "metadata": {},
   "source": [
    "# 数据读取-视频\n",
    "\n",
    "cv2.VideoVapture()可以捕获摄像头，用数字控制不同的设备，如果是视频文件，直接指定路径"
   ]
  },
  {
   "cell_type": "code",
   "execution_count": 18,
   "metadata": {},
   "outputs": [],
   "source": [
    "vc = cv2.VideoCapture('test.mp4')"
   ]
  },
  {
   "cell_type": "code",
   "execution_count": 19,
   "metadata": {},
   "outputs": [
    {
     "name": "stdout",
     "output_type": "stream",
     "text": [
      "True\n"
     ]
    }
   ],
   "source": [
    "# 检查是否正确打开\n",
    "if vc.isOpened():\n",
    "    # vc.read会依次读取第一帧、第二帧。。。。    \n",
    "    open, frame =vc.read()\n",
    "else:\n",
    "    open = False\n",
    "print(open)"
   ]
  },
  {
   "cell_type": "code",
   "execution_count": 20,
   "metadata": {},
   "outputs": [],
   "source": [
    "while open:\n",
    "    ret, frame = vc.read()\n",
    "    if frame is None:\n",
    "        break\n",
    "    if ret == True:\n",
    "        gray = cv2.cvtColor(frame,cv2.COLOR_BGR2GRAY)\n",
    "        cv2.imshow('result',gray)\n",
    "        # 27是退出键\n",
    "        if cv2.waitKey(10) & 0xFF == 27:\n",
    "            break\n",
    "vc.release()\n",
    "cv2.destroyAllWindows()"
   ]
  },
  {
   "cell_type": "markdown",
   "metadata": {},
   "source": [
    "# 截取部分图像数据(ROI)"
   ]
  },
  {
   "cell_type": "code",
   "execution_count": 21,
   "metadata": {},
   "outputs": [],
   "source": [
    "img = cv2.imread('cat.jpg')\n",
    "cat = img[0:200,0:200]\n",
    "cv_show('cat_spl',cat)"
   ]
  },
  {
   "cell_type": "markdown",
   "metadata": {},
   "source": [
    "# 颜色通道提取\n",
    "\n"
   ]
  },
  {
   "cell_type": "code",
   "execution_count": 22,
   "metadata": {},
   "outputs": [],
   "source": [
    "b,g,r = cv2.split(img)"
   ]
  },
  {
   "cell_type": "code",
   "execution_count": 23,
   "metadata": {},
   "outputs": [
    {
     "data": {
      "text/plain": [
       "array([[142, 146, 151, ..., 156, 155, 154],\n",
       "       [108, 112, 118, ..., 155, 154, 153],\n",
       "       [108, 110, 118, ..., 156, 155, 154],\n",
       "       ...,\n",
       "       [162, 157, 142, ..., 181, 170, 149],\n",
       "       [140, 147, 139, ..., 169, 125, 106],\n",
       "       [154, 154, 121, ..., 183, 128, 127]], dtype=uint8)"
      ]
     },
     "execution_count": 23,
     "metadata": {},
     "output_type": "execute_result"
    }
   ],
   "source": [
    "b"
   ]
  },
  {
   "cell_type": "code",
   "execution_count": 24,
   "metadata": {},
   "outputs": [
    {
     "data": {
      "text/plain": [
       "array([[151, 155, 160, ..., 172, 171, 170],\n",
       "       [117, 123, 127, ..., 171, 170, 169],\n",
       "       [119, 123, 128, ..., 169, 168, 167],\n",
       "       ...,\n",
       "       [186, 181, 166, ..., 204, 193, 172],\n",
       "       [164, 171, 163, ..., 187, 143, 124],\n",
       "       [178, 178, 145, ..., 198, 143, 142]], dtype=uint8)"
      ]
     },
     "execution_count": 24,
     "metadata": {},
     "output_type": "execute_result"
    }
   ],
   "source": [
    "g"
   ]
  },
  {
   "cell_type": "code",
   "execution_count": 25,
   "metadata": {},
   "outputs": [
    {
     "data": {
      "text/plain": [
       "array([[160, 164, 170, ..., 185, 184, 183],\n",
       "       [126, 131, 137, ..., 184, 183, 182],\n",
       "       [127, 131, 138, ..., 183, 182, 181],\n",
       "       ...,\n",
       "       [198, 193, 178, ..., 206, 195, 174],\n",
       "       [176, 183, 175, ..., 188, 144, 125],\n",
       "       [190, 190, 157, ..., 200, 145, 144]], dtype=uint8)"
      ]
     },
     "execution_count": 25,
     "metadata": {},
     "output_type": "execute_result"
    }
   ],
   "source": [
    "r"
   ]
  },
  {
   "cell_type": "code",
   "execution_count": 26,
   "metadata": {
    "scrolled": true
   },
   "outputs": [
    {
     "data": {
      "text/plain": [
       "array([[[142, 151, 160],\n",
       "        [146, 155, 164],\n",
       "        [151, 160, 170],\n",
       "        ...,\n",
       "        [156, 172, 185],\n",
       "        [155, 171, 184],\n",
       "        [154, 170, 183]],\n",
       "\n",
       "       [[108, 117, 126],\n",
       "        [112, 123, 131],\n",
       "        [118, 127, 137],\n",
       "        ...,\n",
       "        [155, 171, 184],\n",
       "        [154, 170, 183],\n",
       "        [153, 169, 182]],\n",
       "\n",
       "       [[108, 119, 127],\n",
       "        [110, 123, 131],\n",
       "        [118, 128, 138],\n",
       "        ...,\n",
       "        [156, 169, 183],\n",
       "        [155, 168, 182],\n",
       "        [154, 167, 181]],\n",
       "\n",
       "       ...,\n",
       "\n",
       "       [[162, 186, 198],\n",
       "        [157, 181, 193],\n",
       "        [142, 166, 178],\n",
       "        ...,\n",
       "        [181, 204, 206],\n",
       "        [170, 193, 195],\n",
       "        [149, 172, 174]],\n",
       "\n",
       "       [[140, 164, 176],\n",
       "        [147, 171, 183],\n",
       "        [139, 163, 175],\n",
       "        ...,\n",
       "        [169, 187, 188],\n",
       "        [125, 143, 144],\n",
       "        [106, 124, 125]],\n",
       "\n",
       "       [[154, 178, 190],\n",
       "        [154, 178, 190],\n",
       "        [121, 145, 157],\n",
       "        ...,\n",
       "        [183, 198, 200],\n",
       "        [128, 143, 145],\n",
       "        [127, 142, 144]]], dtype=uint8)"
      ]
     },
     "execution_count": 26,
     "metadata": {},
     "output_type": "execute_result"
    }
   ],
   "source": [
    "img"
   ]
  },
  {
   "cell_type": "code",
   "execution_count": 27,
   "metadata": {},
   "outputs": [
    {
     "data": {
      "text/plain": [
       "(414, 500, 3)"
      ]
     },
     "execution_count": 27,
     "metadata": {},
     "output_type": "execute_result"
    }
   ],
   "source": [
    "img = cv2.merge((b,g,r))\n",
    "img.shape"
   ]
  },
  {
   "cell_type": "code",
   "execution_count": null,
   "metadata": {},
   "outputs": [],
   "source": []
  }
 ],
 "metadata": {
  "kernelspec": {
   "display_name": "Python 3",
   "language": "python",
   "name": "python3"
  },
  "language_info": {
   "codemirror_mode": {
    "name": "ipython",
    "version": 3
   },
   "file_extension": ".py",
   "mimetype": "text/x-python",
   "name": "python",
   "nbconvert_exporter": "python",
   "pygments_lexer": "ipython3",
   "version": "3.7.7"
  },
  "latex_envs": {
   "LaTeX_envs_menu_present": true,
   "autoclose": false,
   "autocomplete": true,
   "bibliofile": "biblio.bib",
   "cite_by": "apalike",
   "current_citInitial": 1,
   "eqLabelWithNumbers": true,
   "eqNumInitial": 1,
   "hotkeys": {
    "equation": "Ctrl-E",
    "itemize": "Ctrl-I"
   },
   "labels_anchors": false,
   "latex_user_defs": false,
   "report_style_numbering": false,
   "user_envs_cfg": false
  },
  "toc": {
   "base_numbering": 1,
   "nav_menu": {},
   "number_sections": true,
   "sideBar": true,
   "skip_h1_title": false,
   "title_cell": "Table of Contents",
   "title_sidebar": "Contents",
   "toc_cell": false,
   "toc_position": {},
   "toc_section_display": true,
   "toc_window_display": false
  },
  "varInspector": {
   "cols": {
    "lenName": 16,
    "lenType": 16,
    "lenVar": 40
   },
   "kernels_config": {
    "python": {
     "delete_cmd_postfix": "",
     "delete_cmd_prefix": "del ",
     "library": "var_list.py",
     "varRefreshCmd": "print(var_dic_list())"
    },
    "r": {
     "delete_cmd_postfix": ") ",
     "delete_cmd_prefix": "rm(",
     "library": "var_list.r",
     "varRefreshCmd": "cat(var_dic_list()) "
    }
   },
   "oldHeight": 122.18726,
   "position": {
    "height": "39.9884px",
    "left": "723.357px",
    "right": "20px",
    "top": "120px",
    "width": "249.988px"
   },
   "types_to_exclude": [
    "module",
    "function",
    "builtin_function_or_method",
    "instance",
    "_Feature"
   ],
   "varInspector_section_display": "none",
   "window_display": false
  }
 },
 "nbformat": 4,
 "nbformat_minor": 4
}
